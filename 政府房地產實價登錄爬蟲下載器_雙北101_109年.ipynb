{
 "cells": [
  {
   "cell_type": "code",
   "execution_count": null,
   "metadata": {},
   "outputs": [],
   "source": [
    "from selenium import webdriver\n",
    "from selenium.common.exceptions import TimeoutException\n",
    "from selenium.webdriver.support.ui import WebDriverWait, Select\n",
    "from selenium.webdriver.support import expected_conditions as EC\n",
    "from selenium.webdriver.common.by import By\n",
    "from time import sleep"
   ]
  },
  {
   "cell_type": "code",
   "execution_count": 57,
   "metadata": {},
   "outputs": [],
   "source": [
    "#開啟瀏覽器介面，並走訪輸入的URL\n",
    "def visit(url):    \n",
    "    driver.get(url)\n",
    "\n",
    "#勾選條件 並 回傳所有年份的資料的總數(int)\n",
    "def condition_selector():\n",
    "    driver.find_element(By.CSS_SELECTOR, 'li[aria-labelledby=\"ui-id-2\"].ui-state-default.ui-corner-top').click()\n",
    "    sleep(3)\n",
    "    #點選非本期下載\n",
    "    driver.find_element(By.CSS_SELECTOR, 'input[type=\"radio\"]#downloadTypeId2').click()\n",
    "    #勾選檔案類型\n",
    "    driver.find_element(By.CSS_SELECTOR, 'select#fileFormatId option[value=\"csv\"]').click()\n",
    "    #點選台北市和新北市\n",
    "    driver.find_element(By.CSS_SELECTOR, 'input[value=\"A_lvr_land_A\"].checkBoxGrp.landTypeA').click()\n",
    "    driver.find_element(By.CSS_SELECTOR, 'input[value=\"A_lvr_land_B\"].checkBoxGrp.landTypeB').click()\n",
    "    driver.find_element(By.CSS_SELECTOR, 'input[value=\"F_lvr_land_A\"].checkBoxGrp.landTypeA').click()\n",
    "    driver.find_element(By.CSS_SELECTOR, 'input[value=\"F_lvr_land_B\"].checkBoxGrp.landTypeB').click()\n",
    "    select = Select(driver.find_element_by_name('season'))\n",
    "    return len(select.options)\n",
    "\n",
    "#下載不同年份的檔案\n",
    "def downloader(counter):    \n",
    "    wait = WebDriverWait(driver, 90)\n",
    "    select = Select(driver.find_element_by_name('season'))\n",
    "     # 或 list = driver.find_elements(By.CSS_SELECTOR, 'select#historySeason_id option')\n",
    "    year = select.options\n",
    "    year[counter].click()\n",
    "    #下載\n",
    "    wait.until(EC.element_to_be_clickable((By.CSS_SELECTOR, 'input[type=\"button\"]#downloadBtnId'))).click()\n",
    "    #     driver.find_element(By.CSS_SELECTOR, 'input[type=\"button\"]#downloadBtnId').click()\n",
    "    sleep(10)"
   ]
  },
  {
   "cell_type": "code",
   "execution_count": 58,
   "metadata": {},
   "outputs": [],
   "source": [
    "#主要程式執行\n",
    "\n",
    "#webDriver基本設定\n",
    "options=webdriver.ChromeOptions()\n",
    "options.add_argument(\"--start-maximized\")\n",
    "options.add_argument(\"--incognito\")\n",
    "options.add_argument(\"--disable-popup-blocking\")\n",
    "driver=webdriver.Chrome(options=options)\n",
    "driver.set_window_size(1200,960)\n",
    "\n",
    "#輸入RUL走訪網頁\n",
    "visit('https://plvr.land.moi.gov.tw/DownloadOpenData')\n",
    "\n",
    "#執行條件勾選 並 承接return的所有年份總數\n",
    "number_of_total_year = condition_selector()\n",
    "\n",
    "#下載所勾選條件所有的檔案\n",
    "for i in range(x):\n",
    "    #有些年份檔案會要下載很久導致後續下載元素無法順利被抓到，所以透過refresh來重新整理再次下載該次不成功元素\n",
    "    try:\n",
    "        downloader(i)\n",
    "    except:\n",
    "        driver.refresh()\n",
    "        downloader(i)"
   ]
  }
 ],
 "metadata": {
  "kernelspec": {
   "display_name": "Python 3",
   "language": "python",
   "name": "python3"
  },
  "language_info": {
   "codemirror_mode": {
    "name": "ipython",
    "version": 3
   },
   "file_extension": ".py",
   "mimetype": "text/x-python",
   "name": "python",
   "nbconvert_exporter": "python",
   "pygments_lexer": "ipython3",
   "version": "3.7.6"
  }
 },
 "nbformat": 4,
 "nbformat_minor": 4
}
