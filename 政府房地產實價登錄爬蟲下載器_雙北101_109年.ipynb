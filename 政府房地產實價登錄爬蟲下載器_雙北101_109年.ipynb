{
 "cells": [
  {
   "cell_type": "code",
   "execution_count": null,
   "metadata": {},
   "outputs": [],
   "source": [
    "from selenium import webdriver\n",
    "from selenium.common.exceptions import TimeoutException\n",
    "from selenium.webdriver.support.ui import WebDriverWait, Select\n",
    "from selenium.webdriver.support import expected_conditions as EC\n",
    "from selenium.webdriver.common.by import By\n",
    "from time import sleep\n",
    "import re"
   ]
  },
  {
   "cell_type": "code",
   "execution_count": null,
   "metadata": {},
   "outputs": [],
   "source": [
    "options=webdriver.ChromeOptions()\n",
    "options.add_argument(\"--start-maximized\")\n",
    "options.add_argument(\"--incognito\")\n",
    "options.add_argument(\"--disable-popup-blocking\")\n",
    "\n",
    "driver=webdriver.Chrome(options=options)\n",
    "driver.set_window_size(1200,960)\n",
    "driver.get('https://plvr.land.moi.gov.tw/DownloadOpenData')\n"
   ]
  },
  {
   "cell_type": "code",
   "execution_count": null,
   "metadata": {},
   "outputs": [],
   "source": [
    "driver.find_element(By.CSS_SELECTOR, 'li[aria-labelledby=\"ui-id-2\"].ui-state-default.ui-corner-top').click()\n",
    "sleep(3)\n",
    "driver.find_element(By.CSS_SELECTOR, 'input[type=\"radio\"]#downloadTypeId2').click()\n",
    "driver.find_element(By.CSS_SELECTOR, 'select#fileFormatId option[value=\"csv\"]').click()\n",
    "driver.find_element(By.CSS_SELECTOR, 'input[value=\"A_lvr_land_A\"].checkBoxGrp.landTypeA').click()\n",
    "driver.find_element(By.CSS_SELECTOR, 'input[value=\"A_lvr_land_B\"].checkBoxGrp.landTypeB').click()\n",
    "driver.find_element(By.CSS_SELECTOR, 'input[value=\"F_lvr_land_A\"].checkBoxGrp.landTypeA').click()\n",
    "driver.find_element(By.CSS_SELECTOR, 'input[value=\"F_lvr_land_B\"].checkBoxGrp.landTypeB').click()\n",
    "\n",
    "wait = WebDriverWait(driver, 90)\n",
    "select = Select(driver.find_element_by_name('season'))\n",
    "# 或 list = driver.find_elements(By.CSS_SELECTOR, 'select#historySeason_id option')\n",
    "for i in select.options:\n",
    "    i.click()\n",
    "    wait.until(EC.element_to_be_clickable((By.CSS_SELECTOR, 'input[type=\"button\"]#downloadBtnId'))).click()\n",
    "#     driver.find_element(By.CSS_SELECTOR, 'input[type=\"button\"]#downloadBtnId').click()\n",
    "    sleep(15)\n",
    "\n",
    "print('finished')"
   ]
  },
  {
   "cell_type": "code",
   "execution_count": null,
   "metadata": {},
   "outputs": [],
   "source": []
  }
 ],
 "metadata": {
  "kernelspec": {
   "display_name": "Python 3",
   "language": "python",
   "name": "python3"
  },
  "language_info": {
   "codemirror_mode": {
    "name": "ipython",
    "version": 3
   },
   "file_extension": ".py",
   "mimetype": "text/x-python",
   "name": "python",
   "nbconvert_exporter": "python",
   "pygments_lexer": "ipython3",
   "version": "3.7.6"
  }
 },
 "nbformat": 4,
 "nbformat_minor": 4
}
